{
 "cells": [
  {
   "cell_type": "markdown",
   "id": "190f008d-ccbc-48c0-b9cf-c00833a08f5e",
   "metadata": {
    "nbgrader": {
     "grade": false,
     "grade_id": "cell-de593d3bda61a942",
     "locked": true,
     "schema_version": 3,
     "solution": false,
     "task": false
    }
   },
   "source": [
    "# <p style=\"text-align: center;\"> TP noté R2.07 <br> Quelques algorithmes sur les graphes\n",
    "</p>"
   ]
  },
  {
   "cell_type": "markdown",
   "id": "1b6a1f0f-ef90-4a83-9e8f-65e93c7771fa",
   "metadata": {
    "nbgrader": {
     "grade": false,
     "grade_id": "cell-c8b8bc5fa7d8929e",
     "locked": true,
     "schema_version": 3,
     "solution": false,
     "task": false
    }
   },
   "source": [
    "## <span style=\"color:red\">  **Consignes générales :** </span>\n",
    "1. Lire attentivement le sujet\n",
    "2. les structures de données ainsi que  les entrées et sorties des méthodes demandées (et leur type) sont **imposées**. Il ne faut pas les modifier.\n",
    "3. Pour qu'une cellule de code soit prise en compte elle doit êtr\n",
    "4. e executée.\n",
    "5. Si vous faites une modification dans une cellule, il faut \"l'executer\" pour qu'elle soit prise en compte.\n",
    "6. Des tests de validation de certaines méthodes sont proposés, il est nécessaire de les passer mais pas suffisant !\n",
    "7. Vous pouvez utiliser, en les adaptant,  les  méthodes obtenues durant les séances de tp. \n"
   ]
  },
  {
   "cell_type": "code",
   "execution_count": null,
   "id": "9ceccce0-d3d2-4132-aa82-825387dd8b33",
   "metadata": {
    "nbgrader": {
     "grade": false,
     "grade_id": "cell-3e65df9d42572e18",
     "locked": true,
     "schema_version": 3,
     "solution": false,
     "task": false
    }
   },
   "outputs": [],
   "source": [
    "from collections import deque\n",
    "import random\n",
    "import copy\n",
    "g1 = {\"A\" :{\"C\"},\n",
    "           \"B\" : {\"C\", \"E\"},\n",
    "           \"C\" : {\"A\", \"B\", \"D\", \"E\"},\n",
    "           \"D\" : {\"C\"},\n",
    "           \"E\" : {\"C\", \"B\"},\n",
    "           \"F\" : set()\n",
    "         }\n",
    "g2 ={\"A\" : set()}\n",
    "g3 = {\n",
    "\"A\":{\"B\":3,\"C\":4, \"D\":7},\n",
    "\"B\":{\"C\":1,\"F\":5},\n",
    "\"C\":{\"F\":6,\"D\":2},\n",
    "\"D\":{\"E\":3, \"G\":6},\n",
    "\"E\":{\"G\":3, \"H\":4},\n",
    "\"F\":{\"E\":1, \"H\":8},\n",
    "\"G\":{\"H\":2},\n",
    "\"H\":{\"G\":2}\n",
    "}\n",
    "g4 = {\n",
    "    \"A\": {\"B\" :3},\n",
    "    \"B\": {\"C\":1, \"F\":4},\n",
    "    \"C\": {\"D\":6, \"E\":2},\n",
    "    \"D\": dict(),\n",
    "    \"E\": {\"F\":4},\n",
    "    \"F\": dict()\n",
    "}"
   ]
  },
  {
   "cell_type": "code",
   "execution_count": null,
   "id": "0bae932b-3a5c-4def-bc81-9584860f7871",
   "metadata": {
    "nbgrader": {
     "grade": false,
     "grade_id": "cell-a0578e6d404363fa",
     "locked": true,
     "schema_version": 3,
     "solution": false,
     "task": false
    }
   },
   "outputs": [],
   "source": [
    "class Graphe(object):\n",
    "    \n",
    "    def __init__(self, graphe_dict=None):\n",
    "        \"\"\" initialise un objet graphe.\n",
    "\t    Si aucun dictionnaire n'est\n",
    "\t    créé ou donné, on en utilisera un \n",
    "\t    vide\n",
    "        \"\"\"\n",
    "        if graphe_dict == None:\n",
    "            graphe_dict = dict()\n",
    "        self._graphe_dict = graphe_dict\n",
    "\n",
    "    def aretes(self, sommet):\n",
    "        \"\"\" retourne une liste de toutes les aretes d'un sommet\"\"\"\n",
    "        return self._graphe_dict[sommet]\n",
    "\n",
    "    def all_sommets(self):\n",
    "        \"\"\" retourne tous les sommets du graphe \"\"\"\n",
    "        return set(self._graphe_dict.keys())\n",
    "\n",
    "    def all_aretes(self):\n",
    "        \"\"\" retourne toutes les aretes du graphe \"\"\"\n",
    "        return self.__list_aretes()\n",
    "\n",
    "    def add_sommet(self, sommet):\n",
    "        \"\"\" Si le \"sommet\" n'set pas déjà présent\n",
    "\tdans le graphe, on rajoute au dictionnaire \n",
    "\tune clé \"sommet\" avec une liste vide pour valeur. \n",
    "\tSinon on ne fait rien.\n",
    "        \"\"\"\n",
    "        if sommet not in self._graphe_dict:\n",
    "            self._graphe_dict[sommet] = []\n",
    "\n",
    "    def add_arete(self, arete):\n",
    "        \"\"\" l'arete est de  type set, tuple ou list;\n",
    "            Entre deux sommets il peut y avoir plus\n",
    "\t    d'une arete (multi-graphe)\n",
    "        \"\"\"\n",
    "        arete = set(arete)\n",
    "        arete1, arete2 = tuple(arete)\n",
    "        for x, y in [(arete1, arete2), (arete2, arete1)]:\n",
    "            if x in self._graphe_dict:\n",
    "                self._graphe_dict[x].add(y)\n",
    "            else:\n",
    "                self._graphe_dict[x] = {y}\n",
    "\n",
    "    def __list_aretes(self):\n",
    "        \"\"\" Methode privée pour récupérer les aretes. \n",
    "\t    Une arete est un ensemble (set)\n",
    "            avec un (boucle) ou deux sommets.\n",
    "        \"\"\"\n",
    "        aretes = []\n",
    "        for sommet in self._graphe_dict:\n",
    "            for voisin in self._graphe_dict[sommet]:\n",
    "                if ({voisin, sommet})  not in aretes:\n",
    "                    aretes.append({sommet, voisin})\n",
    "        return aretes\n",
    "    \n",
    "    def __iter__(self):\n",
    "        self._iter_obj = iter(self._graphe_dict)\n",
    "        return self._iter_obj\n",
    "\n",
    "    def __next__(self):\n",
    "        \"\"\" Pour itérer sur les sommets du graphe \"\"\"\n",
    "        return next(self._iter_obj)\n",
    "\n",
    "    def __str__(self):\n",
    "        res = \"sommets: \"\n",
    "        for k in self._graphe_dict.keys():\n",
    "            res += str(k) + \" \"\n",
    "        res += \"\\naretes: \"\n",
    "        for arete in self.__list_aretes():\n",
    "            res += str(arete) + \" \"\n",
    "        return res"
   ]
  },
  {
   "cell_type": "markdown",
   "id": "b21e3182-a0bc-4852-8383-5f8c7984cd5f",
   "metadata": {
    "nbgrader": {
     "grade": false,
     "grade_id": "cell-404c88f8494b704a",
     "locked": true,
     "schema_version": 3,
     "solution": false,
     "task": false
    }
   },
   "source": [
    "## Ecrire la méthode estcyclique, décrite dans l'algorithme ci dessous, qui permet de vérifier si un graphe est **acyclique**.\n"
   ]
  },
  {
   "cell_type": "markdown",
   "id": "874a1234-e26f-4496-953d-42be68cddcaa",
   "metadata": {},
   "source": [
    "![Cycle](AlgoCyclique.png)"
   ]
  },
  {
   "cell_type": "markdown",
   "id": "dd5dcaa4-44b6-4cb0-a80c-cffbae024cad",
   "metadata": {},
   "source": [
    "Si le sommet passé en paramètre n'existe pas, on renvoie une exception. On utlisera la méthode \"raise\" et  ValueError()."
   ]
  },
  {
   "cell_type": "code",
   "execution_count": null,
   "id": "b4d11c60-ec75-46f4-9bd2-e3e889e5df6c",
   "metadata": {
    "nbgrader": {
     "grade": false,
     "grade_id": "cell-9700bf7fa8adb695",
     "locked": false,
     "schema_version": 3,
     "solution": true,
     "task": false
    }
   },
   "outputs": [],
   "source": [
    "class Graphe2(Graphe):\n",
    "    \"\"\" s est un sommet quelconque, donné par l'utilisateur \n",
    "    ou choisi aléatoirement parmi la liste des sommets du graphe\n",
    "    \"\"\"\n",
    "    def estcyclique(self, s=None, TAG=[]):\n",
    "        if s not in self._graphe_dict: \n",
    "            raise ValueError(f\"Le sommet {s} n'existe pas dans le graphe.\")\n",
    "        TAG.append(s) # on ajoute le sommet s à la liste TAG\n",
    "        for voisin in self._graphe_dict[s]: \n",
    "            if voisin in TAG: # si le voisin est déjà dans TAG, il y a un cycle\n",
    "                return \"Il y a un cycle\"\n",
    "            if self.estcyclique(voisin, TAG.copy()) == \"Il y a un cycle\": # sinon on appelle la fonction récursivement\n",
    "                return \"Il y a un cycle\"\n",
    "        return \"Pas de cycle\""
   ]
  },
  {
   "cell_type": "code",
   "execution_count": null,
   "id": "f14fa28e-0ea2-4364-8a13-a646ab526730",
   "metadata": {
    "nbgrader": {
     "grade": false,
     "grade_id": "cell-2ec9b7761df82a11",
     "locked": false,
     "points": 2,
     "schema_version": 3,
     "solution": false,
     "task": false
    }
   },
   "outputs": [],
   "source": [
    "\"\"\"Vérifiez vos résultats sur les tests suivants\"\"\"\n",
    "G=Graphe2(g1)\n",
    "assert G.estcyclique(\"A\") == \"Il y a un cycle\"\n",
    "assert G.estcyclique(\"E\") == \"Il y a un cycle\"\n"
   ]
  },
  {
   "cell_type": "code",
   "execution_count": null,
   "id": "045d30a4-dd07-4f68-b472-e13487295757",
   "metadata": {
    "nbgrader": {
     "grade": true,
     "grade_id": "cell-065a64a25b12eb9c",
     "locked": true,
     "points": 1,
     "schema_version": 3,
     "solution": false,
     "task": false
    }
   },
   "outputs": [],
   "source": [
    "\"\"\"Vérifiez les entrées\"\"\"\n",
    "try:\n",
    "    G.estcyclique(\"Z\") \n",
    "except ValueError:\n",
    "    pass\n",
    "else:\n",
    "    raise AssertionError(\"n'a pas retourné d'erreur\")"
   ]
  },
  {
   "cell_type": "markdown",
   "id": "db4b6fbb-7895-4e83-8b30-1a0089a98092",
   "metadata": {
    "nbgrader": {
     "grade": false,
     "grade_id": "cell-21d817fa80738c74",
     "locked": true,
     "schema_version": 3,
     "solution": false,
     "task": false
    }
   },
   "source": [
    "## Ecrire la méthode estconnexe, décrite ci-dessous, et qui permet de tester si un graphe est connexe"
   ]
  },
  {
   "cell_type": "markdown",
   "id": "2d243d72-1df7-481f-8f0a-0daf582ff127",
   "metadata": {
    "nbgrader": {
     "grade": false,
     "grade_id": "cell-ba550e0e9e6f1db3",
     "locked": true,
     "schema_version": 3,
     "solution": false,
     "task": false
    }
   },
   "source": [
    "![Connexe](grapheconnexe.png)"
   ]
  },
  {
   "cell_type": "code",
   "execution_count": null,
   "id": "bf705e48-41d6-41ab-bef5-9db9df2acb7a",
   "metadata": {
    "nbgrader": {
     "grade": false,
     "grade_id": "cell-4248824b00cbc543",
     "locked": false,
     "schema_version": 3,
     "solution": true,
     "task": false
    },
    "scrolled": true
   },
   "outputs": [],
   "source": [
    "class Graphe2(Graphe2):\n",
    "    def estconnexe(self,s):\n",
    "        \"\"\" s est un sommet quelconque, donné par l'utilisateur \n",
    "        Il faudra renvoyer une exception si le sommet n'existe pas\n",
    "        \"\"\"\n",
    "        if s not in self._graphe_dict:\n",
    "            raise ValueError(f\"Le sommet {s} n'existe pas dans le graphe.\")\n",
    "        \n",
    "        visite = set()  # Ensemble des sommets visités\n",
    "        a_visiter = [s]  # Liste des sommets à visiter\n",
    "        \n",
    "        while a_visiter: # Tant qu'il reste des sommets à visiter\n",
    "            sommet = a_visiter.pop()\n",
    "            visite.add(sommet) # On ajoute le sommet visité à l'ensemble des sommets visités\n",
    "            for voisin in self._graphe_dict[sommet]: # On parcourt les voisins du sommet\n",
    "                if voisin not in visite:\n",
    "                    a_visiter.append(voisin) # On ajoute le voisin à la liste des sommets à visiter\n",
    "        \n",
    "        if len(visite) < len(self.all_sommets()): # Si le nombre de sommets visités est inférieur au nombre de sommets du graphe\n",
    "            return \"faux\" "
   ]
  },
  {
   "cell_type": "code",
   "execution_count": null,
   "id": "0c2cce9a-f17e-4620-b3db-2624e9ec2bb1",
   "metadata": {
    "nbgrader": {
     "grade": true,
     "grade_id": "cell-911ea2a527ab4f07",
     "locked": true,
     "points": 1,
     "schema_version": 3,
     "solution": false,
     "task": false
    }
   },
   "outputs": [],
   "source": [
    "\"\"\"Vérifiez vos résultats sur les tests suivants\"\"\"\n",
    "G=Graphe2(g1)\n",
    "assert G.estconnexe(\"A\") == \"faux\"\n",
    "assert G.estconnexe(\"E\") == \"faux\"\n"
   ]
  },
  {
   "cell_type": "markdown",
   "id": "68201faa-b304-41a5-95a8-053ed8507e8e",
   "metadata": {
    "nbgrader": {
     "grade": false,
     "grade_id": "cell-94c908dcd464e05b",
     "locked": true,
     "schema_version": 3,
     "solution": false,
     "task": false
    }
   },
   "source": [
    "## Modifier la méthode **estconnexe** pour qu'elle retourne \"vrai\" si le graphe est connexe et,  sinon, le tuple (\"faux\",n) où n est le nombre de composantes connexes du graphe."
   ]
  },
  {
   "cell_type": "code",
   "execution_count": null,
   "id": "eb7b659f-0141-4e42-863d-6f67a555ff2e",
   "metadata": {
    "nbgrader": {
     "grade": false,
     "grade_id": "cell-2e03fc6b59e99f40",
     "locked": false,
     "schema_version": 3,
     "solution": true,
     "task": false
    }
   },
   "outputs": [],
   "source": [
    "class Graphe2(Graphe2):\n",
    "    def estconnexe2(self, s):\n",
    "        \"\"\" s est un sommet quelconque, donné par l'utilisateur \n",
    "        Il faudra renvoyer une exception si le sommet n'existe pas\n",
    "        \"\"\"\n",
    "        if s not in self._graphe_dict:\n",
    "            raise ValueError(f\"Le sommet {s} n'existe pas dans le graphe.\")\n",
    "        \n",
    "        visite = set()  # Ensemble des sommets visités\n",
    "        a_visiter = [s]  # Liste des sommets à visiter\n",
    "        composantes_connexes = 0  # Compteur de composantes connexes\n",
    "        \n",
    "        while a_visiter: # Parcours en profondeur\n",
    "            sommet = a_visiter.pop()\n",
    "            visite.add(sommet)\n",
    "            for voisin in self._graphe_dict[sommet]: # On parcourt les voisins du sommet\n",
    "                if voisin not in visite:\n",
    "                    a_visiter.append(voisin) # On ajoute le voisin à la liste des sommets à visiter\n",
    "        \n",
    "        composantes_connexes += 1 # On a trouvé une composante connexe\n",
    "        \n",
    "        # Parcourir les sommets non visités pour trouver d'autres composantes connexes\n",
    "        for sommet in self.all_sommets():\n",
    "            if sommet not in visite: # Si le sommet n'a pas été visité, on a une nouvelle composante connexe\n",
    "                composantes_connexes += 1\n",
    "                a_visiter = [sommet]\n",
    "                while a_visiter: # Parcours en profondeur\n",
    "                    sommet = a_visiter.pop()\n",
    "                    visite.add(sommet)\n",
    "                    for voisin in self._graphe_dict[sommet]: # On parcourt les voisins du sommet\n",
    "                        if voisin not in visite:\n",
    "                            a_visiter.append(voisin)\n",
    "        \n",
    "        if composantes_connexes > 1: # Si on a plus d'une composante connexe alors le graphe n'est pas connexe\n",
    "            return (\"faux\", composantes_connexes)\n",
    "        else:\n",
    "            return \"vrai\""
   ]
  },
  {
   "cell_type": "code",
   "execution_count": null,
   "id": "ffcbe4f9-f291-409a-98ab-a120a70efdb8",
   "metadata": {
    "nbgrader": {
     "grade": true,
     "grade_id": "cell-dfe93da380f98b32",
     "locked": true,
     "points": 0,
     "schema_version": 3,
     "solution": false,
     "task": false
    }
   },
   "outputs": [],
   "source": [
    "\"\"\"Vérifiez vos résultats sur les tests suivants\"\"\"\n",
    "G=Graphe2(g1)\n",
    "assert G.estconnexe2(\"A\") == (\"faux\",2)\n",
    "assert G.estconnexe2(\"C\") == (\"faux\",2)\n"
   ]
  },
  {
   "cell_type": "markdown",
   "id": "590eb23d",
   "metadata": {},
   "source": [
    "## Modifier la méthode précédente pour qu\"elle pour qu'elle retourne \"vrai\" si le graphe est connexe et,  sinon, <br> le tuple ((\"faux\",n), L) où n est le nombre de composantes connexes du graphe et L une liste des composantes connexes (une liste de listes donc)."
   ]
  },
  {
   "cell_type": "code",
   "execution_count": null,
   "id": "2d96aa46",
   "metadata": {},
   "outputs": [],
   "source": [
    "class Graphe2(Graphe2):\n",
    "    def estconnexe3(self,s):\n",
    "        \"\"\" s est un sommet quelconque, donné par l'utilisateur \n",
    "        Il faudra renvoyer une exception si le sommet n'existe pas\n",
    "        L=[[]]\n",
    "        \"\"\"\n",
    "        if s not in self._graphe_dict:\n",
    "            raise ValueError(f\"Le sommet {s} n'existe pas dans le graphe.\")\n",
    "        \n",
    "        visited = set() # Ensemble des sommets visités\n",
    "        composantes = []\n",
    "\n",
    "        def dfs(sommet, comp): # Parcours en profondeur\n",
    "            if sommet not in visited:\n",
    "                visited.add(sommet)\n",
    "                comp.append(sommet)\n",
    "                for voisin in self._graphe_dict[sommet]: # On parcourt les voisins du sommet\n",
    "                    dfs(voisin, comp)\n",
    "\n",
    "        for sommet in sorted(self._graphe_dict.keys()): # On parcourt les sommets du graphe\n",
    "            if sommet not in visited:\n",
    "                comp = []\n",
    "                dfs(sommet, comp)\n",
    "                composantes.append(sorted(comp)) # On ajoute la composante connexe à la liste des composantes connexes\n",
    "        \n",
    "        if len(composantes) > 1: # Si on a plus d'une composante connexe alors le graphe n'est pas connexe\n",
    "            return ((\"faux\", len(composantes)), composantes)\n",
    "        else:\n",
    "            return \"vrai\""
   ]
  },
  {
   "cell_type": "code",
   "execution_count": null,
   "id": "6d927244",
   "metadata": {},
   "outputs": [],
   "source": [
    "\"\"\"Vérifiez vos résultats sur les tests suivants\"\"\"\n",
    "G=Graphe2(g1)\n",
    "assert G.estconnexe3(\"A\") == ((\"faux\",2), [[\"A\",\"B\",\"C\",\"D\",\"E\"],[\"F\"]])\n",
    "assert G.estconnexe3(\"C\") == ((\"faux\",2), [[\"A\",\"B\",\"C\",\"D\",\"E\"],[\"F\"]])"
   ]
  },
  {
   "cell_type": "markdown",
   "id": "4c6c649c-c760-407f-9e15-5a4565540c63",
   "metadata": {},
   "source": [
    "## Dikjstra, plus long chemin"
   ]
  },
  {
   "cell_type": "markdown",
   "id": "985ea503-a88f-4151-b7f7-0811efb9a3fc",
   "metadata": {
    "nbgrader": {
     "grade": false,
     "grade_id": "cell-cddd8dd32efbfc3e",
     "locked": true,
     "schema_version": 3,
     "solution": false,
     "task": false
    }
   },
   "source": [
    "On souhaite ecrire une méthode qui renvoie le plus long chemin à partir d'un sommet donné.<br>\n",
    "Pour cela on adaptera l'algorithme de Dikjstra pour des graphes  particuliers : **les graphes orientés acycliques pondérés positivement** "
   ]
  },
  {
   "cell_type": "markdown",
   "id": "936dbaee-76d8-4b57-93ff-c34668e7cb3a",
   "metadata": {
    "nbgrader": {
     "grade": false,
     "grade_id": "cell-c3c404fcf9f9687e",
     "locked": true,
     "schema_version": 3,
     "solution": false,
     "task": false
    }
   },
   "source": [
    "## Ecrire, dans un premier temps, la méthode ci-dessous qui met en oeuvre l'algorithme de Dijkstra classique (D est le tableau des distances et P le dictionnaire des parents, comme vu en tp)."
   ]
  },
  {
   "cell_type": "code",
   "execution_count": null,
   "id": "2fe3f525-9633-4bd6-9296-ebd49de9d9ea",
   "metadata": {
    "nbgrader": {
     "grade": false,
     "grade_id": "cell-b992084d0ba8f7f3",
     "locked": false,
     "schema_version": 3,
     "solution": true,
     "task": false
    }
   },
   "outputs": [],
   "source": [
    "class Graphe2(Graphe2):\n",
    "    def dijkstra(self,s):\n",
    "        if s not in self._graphe_dict:\n",
    "            raise ValueError(f\"Le sommet {s} n'existe pas dans le graphe.\")\n",
    "        \n",
    "        D = {sommet: float('infinity') for sommet in self._graphe_dict} # Initialisation des distances, infini pour tous les sommets\n",
    "        D[s] = 0\n",
    "        P = {sommet: None for sommet in self._graphe_dict}\n",
    "        \n",
    "        sommets = set(self._graphe_dict.keys())\n",
    "        while sommets: # Tant qu'il reste des sommets à visiter\n",
    "            u = min(sommets, key=lambda sommet: D[sommet]) # On récupère le sommet avec la distance minimale\n",
    "            sommets.remove(u) # On retire le sommet de la liste des sommets à visiter\n",
    "            for voisin in self._graphe_dict[u]:\n",
    "                if voisin in sommets:\n",
    "                    alt = D[u] + self._graphe_dict[u][voisin]\n",
    "                    if alt < D[voisin]:\n",
    "                        D[voisin] = alt # On met à jour la distance si elle reste infini alors on a pas encore visité le sommet\n",
    "                        P[voisin] = u      \n",
    "        return D,P"
   ]
  },
  {
   "cell_type": "markdown",
   "id": "cef6ff37-39c2-46d3-b40b-1edf321d0ff4",
   "metadata": {
    "nbgrader": {
     "grade": false,
     "grade_id": "cell-7f5ff067c9fcf52b",
     "locked": true,
     "schema_version": 3,
     "solution": false,
     "task": false
    }
   },
   "source": [
    "## Ecire la méthode ci dessous qui permet de donner le plus court chemin entre deux sommets, s et d, donnés.<br>Le chemin sera donné sous forme d'une liste dans le bon ordre."
   ]
  },
  {
   "cell_type": "code",
   "execution_count": null,
   "id": "3c56bdc3-478f-484a-80fb-307384303062",
   "metadata": {
    "nbgrader": {
     "grade": false,
     "grade_id": "cell-0d85dbb2a97e06ea",
     "locked": false,
     "schema_version": 3,
     "solution": true,
     "task": false
    }
   },
   "outputs": [],
   "source": [
    "class Graphe2(Graphe2):\n",
    "    def chemindijkstra(self, s, d):\n",
    "        \"\"\" Cette méthode retourne \"pas de chemin\" ou un tuple contenant\n",
    "        le plus court chemin entre s et d sous forme d'une liste, L, dans le bon ordre\n",
    "        ainsi que la longueur,l, du chemin trouvé. Le chemin d'un sommet \n",
    "        à lui-même est de longueur nulle.\n",
    "        Comme précédemment, on gère une exception si s ou d n'appartiennent pas au graphe.\n",
    "        \"\"\"\n",
    "\n",
    "        if s not in self._graphe_dict or d not in self._graphe_dict:\n",
    "            raise ValueError(\"Les sommets doivent appartenir au graphe.\")\n",
    "\n",
    "        D, P = self.dijkstra(s)  # Obtention des distances et des prédécesseurs à partir de l'algorithme de Dijkstra\n",
    "        if D[d] == float('infinity'):  # Si la destination est inaccessible depuis la source ou non visitée\n",
    "            return (\"pas de chemin\", float('infinity'))\n",
    "\n",
    "        # Reconstruction du chemin\n",
    "        chemin = []\n",
    "        sommet_actuel = d\n",
    "        while sommet_actuel is not None:\n",
    "            chemin.insert(0, sommet_actuel)\n",
    "            sommet_actuel = P[sommet_actuel]\n",
    "        return chemin, D[d]\n",
    "    \n",
    "    def dijkstra(self,s):\n",
    "        if s not in self._graphe_dict:\n",
    "            raise ValueError(f\"Le sommet {s} n'existe pas dans le graphe.\")\n",
    "        \n",
    "        D = {sommet: float('infinity') for sommet in self._graphe_dict} # Initialisation des distances, infini pour tous les sommets\n",
    "        D[s] = 0\n",
    "        P = {sommet: None for sommet in self._graphe_dict}\n",
    "        \n",
    "        sommets = set(self._graphe_dict.keys())\n",
    "        while sommets: # Tant qu'il reste des sommets à visiter\n",
    "            u = min(sommets, key=lambda sommet: D[sommet]) # On récupère le sommet avec la distance minimale\n",
    "            sommets.remove(u) # On retire le sommet de la liste des sommets à visiter\n",
    "            for voisin in self._graphe_dict[u]:\n",
    "                if voisin in sommets:\n",
    "                    alt = D[u] + self._graphe_dict[u][voisin]\n",
    "                    if alt < D[voisin]:\n",
    "                        D[voisin] = alt # On met à jour la distance si elle reste infini alors on a pas encore visité le sommet\n",
    "                        P[voisin] = u      \n",
    "        return D,P"
   ]
  },
  {
   "cell_type": "code",
   "execution_count": null,
   "id": "0acc662d-fd39-4862-a959-2e8acca35f2d",
   "metadata": {
    "nbgrader": {
     "grade": true,
     "grade_id": "cell-c530f17ffb5400d9",
     "locked": true,
     "points": 3,
     "schema_version": 3,
     "solution": false,
     "task": false
    }
   },
   "outputs": [],
   "source": [
    "\"\"\"Vérifiez vos résultats sur les tests suivants\"\"\"\n",
    "G3=Graphe2(g3)\n",
    "assert G3.chemindijkstra(\"A\",\"E\") == ([\"A\",\"C\",\"D\",\"E\"],9)\n",
    "assert G3.chemindijkstra(\"E\",\"E\") == ([\"E\"],0)\n"
   ]
  },
  {
   "cell_type": "markdown",
   "id": "21f87fa5-c395-4ff7-bfbb-8548ffd993e8",
   "metadata": {
    "nbgrader": {
     "grade": false,
     "grade_id": "cell-66c1d155348145cd",
     "locked": true,
     "schema_version": 3,
     "solution": false,
     "task": false
    }
   },
   "source": [
    "On souhaite dans cette partie adapter l'algorithme de Dijkstra pour trouver le plus long chemin entre deux sommets d'un graphe valué orienté.\n",
    "Pour cela :\n",
    "1. Si le graphe est acyclique et pondéré positivement sinon on retourne \"impossible\"\n",
    "2. Sinon, on utilise l'algorithme de Dijkstra sur le graphe mais en changeant toutes les pondérations en leurs opposées.\n",
    "3. On retournera alors deux tuples : $(L_1,l_1)$ et $(L_2,l_2)$ où $L_1, L_2, l_1$ et $l_2$ sont respectivement les listes correspondant  au plus court, plus long chemin  (dans le bon ordre) et les longueurs de ces deux chemins\n",
    "4. Comme précédemment si un des sommets n'existe pas on générera une exception. "
   ]
  },
  {
   "cell_type": "code",
   "execution_count": null,
   "id": "b87080f8-591f-41d3-a96b-f59395a97c78",
   "metadata": {
    "nbgrader": {
     "grade": false,
     "grade_id": "cell-ce7d928e5bce5ed1",
     "locked": false,
     "schema_version": 3,
     "solution": true,
     "task": false
    }
   },
   "outputs": [],
   "source": [
    "class Graphe2(Graphe2):\n",
    "    def cheminsPLC(self,s,d):\n",
    "        \"\"\" Cette méthode retourne \"impossible\" (si il y a un cycle ou si il y a une pondération négative),\n",
    "        \"pas de chemin\" ou deux tuples contenant\n",
    "        le plus court chemin entre s et d sous forme d'une liste, L1, dans le bon ordre\n",
    "        ainsi que la longueur,l1, du chemin trouvé, le plus long chemin entre s et d sous forme d'une liste, \n",
    "        L2, dans le bon ordre ainsi que la longueur,l2, du chemin trouvé, Le chemin d'un sommet \n",
    "        à lui mêeme est de longueur nulle\n",
    "        Comme précédemment, on gèrera une exception si s ou d n'appartiennent pas au graphe \n",
    "        \"\"\"\n",
    "        if s not in self._graphe_dict or d not in self._graphe_dict:\n",
    "            raise ValueError(\"Les sommets doivent appartenir au graphe.\")\n",
    "        \n",
    "        if self.estcyclique(s) == \"Il y a un cycle\":\n",
    "            return \"impossible\"\n",
    "        \n",
    "        for sommet in self._graphe_dict: # On vérifie si il y a une pondération négative\n",
    "            for voisin in self._graphe_dict[sommet]: # On parcourt les voisins du sommet\n",
    "                if self._graphe_dict[sommet][voisin] < 0:\n",
    "                    return \"impossible\"\n",
    "                \n",
    "        graphe = copy.deepcopy(self._graphe_dict) # Copie du graphe pour ne pas modifier l'original\n",
    "        for sommet in graphe:\n",
    "            for voisin in graphe[sommet]:\n",
    "                graphe[sommet][voisin] *= -1 # On inverse les pondérations\n",
    "\n",
    "        D1, P1 = self.dijkstra(s) # On applique l'algorithme de Dijkstra sur le graphe original et sur le graphe inversé\n",
    "        D2, P2 = self.dijkstra(s)\n",
    "        for sommet in D2: # On inverse les distances\n",
    "            D2[sommet] *= -1\n",
    "\n",
    "        # Reconstruction du chemin\n",
    "        chemin1 = []\n",
    "        sommet_actuel = d\n",
    "        while sommet_actuel is not None: # On reconstruit le chemin pour le graphe original\n",
    "            chemin1.insert(0, sommet_actuel)\n",
    "            sommet_actuel = P1[sommet_actuel]\n",
    "\n",
    "        chemin2 = []\n",
    "        sommet_actuel = d\n",
    "        while sommet_actuel is not None: # On reconstruit le chemin pour le graphe inversé\n",
    "            chemin2.insert(0, sommet_actuel)\n",
    "            sommet_actuel = P2[sommet_actuel]\n",
    "\n",
    "        l1 = D1[d]\n",
    "        l2 = D2[d]\n",
    "        return (chemin1, l1), (chemin2, l2) # On retourne les deux chemins et leurs longueurs\n",
    "\n",
    "    def dijkstra(self,s):\n",
    "        if s not in self._graphe_dict:\n",
    "            raise ValueError(f\"Le sommet {s} n'existe pas dans le graphe.\")\n",
    "        \n",
    "        D = {sommet: float('infinity') for sommet in self._graphe_dict} # Initialisation des distances, infini pour tous les sommets\n",
    "        D[s] = 0\n",
    "        P = {sommet: None for sommet in self._graphe_dict}\n",
    "        \n",
    "        sommets = set(self._graphe_dict.keys())\n",
    "        while sommets: # Tant qu'il reste des sommets à visiter\n",
    "            u = min(sommets, key=lambda sommet: D[sommet]) # On récupère le sommet avec la distance minimale\n",
    "            sommets.remove(u) # On retire le sommet de la liste des sommets à visiter\n",
    "            for voisin in self._graphe_dict[u]:\n",
    "                if voisin in sommets:\n",
    "                    alt = D[u] + self._graphe_dict[u][voisin]\n",
    "                    if alt < D[voisin]:\n",
    "                        D[voisin] = alt # On met à jour la distance si elle reste infini alors on a pas encore visité le sommet\n",
    "                        P[voisin] = u      \n",
    "        return D,P\n",
    "    \n",
    "    def estcyclique(self, s=None, TAG=[]):\n",
    "        if s not in self._graphe_dict: \n",
    "            raise ValueError(f\"Le sommet {s} n'existe pas dans le graphe.\")\n",
    "        TAG.append(s) # on ajoute le sommet s à la liste TAG\n",
    "        for voisin in self._graphe_dict[s]: \n",
    "            if voisin in TAG: # si le voisin est déjà dans TAG, il y a un cycle\n",
    "                return \"Il y a un cycle\"\n",
    "            if self.estcyclique(voisin, TAG.copy()) == \"Il y a un cycle\": # sinon on appelle la fonction récursivement\n",
    "                return \"Il y a un cycle\"\n",
    "        return \"Pas de cycle\""
   ]
  }
 ],
 "metadata": {
  "kernelspec": {
   "display_name": "Python 3 (ipykernel)",
   "language": "python",
   "name": "python3"
  },
  "language_info": {
   "codemirror_mode": {
    "name": "ipython",
    "version": 3
   },
   "file_extension": ".py",
   "mimetype": "text/x-python",
   "name": "python",
   "nbconvert_exporter": "python",
   "pygments_lexer": "ipython3",
   "version": "3.9.2"
  }
 },
 "nbformat": 4,
 "nbformat_minor": 5
}
